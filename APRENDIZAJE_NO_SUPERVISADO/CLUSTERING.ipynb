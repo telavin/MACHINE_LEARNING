{
  "cells": [
    {
      "cell_type": "code",
      "execution_count": null,
      "metadata": {
        "id": "LBwNXNMNiKMf"
      },
      "outputs": [],
      "source": [
        "import pandas as pd\n",
        "from qgrid import show_grid\n",
        "import seaborn as sns\n",
        "from pandas_profiling import ProfileReport\n",
        "from funpymodeling.exploratory import freq_tbl, status, profiling_num, cat_vars, num_vars\n",
        "import numpy as np"
      ]
    },
    {
      "cell_type": "code",
      "execution_count": null,
      "metadata": {
        "id": "i43-p1-GiKMg"
      },
      "outputs": [],
      "source": [
        "# Fuente: https://github.com/rfordatascience/tidytuesday/blob/master/data/2020/2020-01-21/readme.md\n",
        "data=pd.read_csv(\"https://raw.githubusercontent.com/rfordatascience/tidytuesday/master/data/2020/2020-01-21/spotify_songs.csv\")\n",
        "\n",
        "status(data)"
      ]
    },
    {
      "cell_type": "markdown",
      "metadata": {
        "id": "qzA_hZvtiKMg"
      },
      "source": [
        "### 2) AED & Storytelling"
      ]
    },
    {
      "cell_type": "code",
      "execution_count": null,
      "metadata": {
        "id": "R2YEEUxOiKMh"
      },
      "outputs": [],
      "source": [
        "data.hist(figsize = (15,20));"
      ]
    },
    {
      "cell_type": "code",
      "execution_count": null,
      "metadata": {
        "id": "Er6Are8uiKMh"
      },
      "outputs": [],
      "source": [
        "#show_grid(data)\n",
        "show_grid(data, grid_options={'forceFitColumns': False, 'defaultColumnWidth': 200})"
      ]
    },
    {
      "cell_type": "code",
      "execution_count": null,
      "metadata": {
        "id": "q2fhi86IiKMh"
      },
      "outputs": [],
      "source": [
        "len(data)"
      ]
    },
    {
      "cell_type": "code",
      "execution_count": null,
      "metadata": {
        "id": "AY3TRX2TiKMi"
      },
      "outputs": [],
      "source": [
        "ProfileReport(data, minimal=True)"
      ]
    },
    {
      "cell_type": "markdown",
      "metadata": {
        "id": "ZlLro8hdiKMi"
      },
      "source": [
        "### 3) Preparación de datos"
      ]
    },
    {
      "cell_type": "code",
      "execution_count": null,
      "metadata": {
        "id": "Uzcptwj5iKMi"
      },
      "outputs": [],
      "source": [
        "x_data=data.drop(cat_vars(data), axis=1)"
      ]
    },
    {
      "cell_type": "code",
      "execution_count": null,
      "metadata": {
        "id": "23gyDNtZiKMi"
      },
      "outputs": [],
      "source": [
        "status(x_data)"
      ]
    },
    {
      "cell_type": "markdown",
      "metadata": {
        "id": "9vielQniiKMj"
      },
      "source": [
        "### 4) Tenemos que normalizar los datos (z-score)"
      ]
    },
    {
      "cell_type": "code",
      "execution_count": null,
      "metadata": {
        "id": "gGjxYEBXiKMj"
      },
      "outputs": [],
      "source": [
        "from sklearn.preprocessing import StandardScaler\n",
        "\n",
        "std_scaler = StandardScaler()\n",
        "std_scaler.fit(x_data)\n",
        "x_data_norm=std_scaler.transform(x_data)\n",
        "\n",
        "# A ver que hizo!?\n",
        "pd.DataFrame(x_data_norm).describe()"
      ]
    },
    {
      "cell_type": "markdown",
      "metadata": {
        "id": "nMQpaEg7iKMk"
      },
      "source": [
        "### 5) Creación del modelo"
      ]
    },
    {
      "cell_type": "code",
      "execution_count": null,
      "metadata": {
        "id": "M4xZvuNsiKMk"
      },
      "outputs": [],
      "source": [
        "from sklearn.cluster import KMeans\n",
        "\n",
        "cl_model = KMeans(\n",
        "    n_clusters=3,  # el parámetro importante!\n",
        "    init='k-means++', # k-means++ acelera la convergencia, respecto de random\n",
        "    max_iter=100, \n",
        "    random_state=0\n",
        ")\n",
        "\n",
        "cl_model.fit(x_data_norm)"
      ]
    },
    {
      "cell_type": "code",
      "execution_count": null,
      "metadata": {
        "id": "S-RwZTkDiKMk"
      },
      "outputs": [],
      "source": [
        "pred_cl = cl_model.predict(x_data_norm)\n",
        "\n",
        "#  Número de cluster: \n",
        "pred_cl"
      ]
    },
    {
      "cell_type": "markdown",
      "metadata": {
        "id": "1zHjh8asiKMk"
      },
      "source": [
        "### 6) Pequeño paréntesis... ¿Cantidad de clusters?"
      ]
    },
    {
      "cell_type": "code",
      "execution_count": null,
      "metadata": {
        "id": "-Q8wK1-YiKMl"
      },
      "outputs": [],
      "source": [
        "cl_model"
      ]
    },
    {
      "cell_type": "code",
      "execution_count": null,
      "metadata": {
        "id": "OfKPEsD-iKMl"
      },
      "outputs": [],
      "source": [
        "from copy import deepcopy"
      ]
    },
    {
      "cell_type": "code",
      "execution_count": null,
      "metadata": {
        "id": "6EK3d6VdiKMl"
      },
      "outputs": [],
      "source": [
        "from yellowbrick.cluster.elbow import kelbow_visualizer\n",
        "\n",
        "cl_model2=deepcopy(cl_model) # ojo\n",
        "\n",
        "kelbow_visualizer(cl_model2, x_data_norm, k=(2,9), locate_elbow=False)"
      ]
    },
    {
      "cell_type": "markdown",
      "metadata": {
        "id": "bcVbdam3iKMl"
      },
      "source": [
        "Copy-paste de la [doc](https://www.scikit-yb.org/en/latest/api/cluster/elbow.html): _distortion, which computes the sum of squared distances from each point to its assigned center._"
      ]
    },
    {
      "cell_type": "markdown",
      "metadata": {
        "id": "_ee4dI6oiKMl"
      },
      "source": [
        "### 7) Analizando el modelo final: Gráfico de coordenadas"
      ]
    },
    {
      "cell_type": "markdown",
      "metadata": {
        "id": "DKqKboOeiKMl"
      },
      "source": [
        "Hacemos copia de los datos y le agregamos el cluster:"
      ]
    },
    {
      "cell_type": "code",
      "execution_count": null,
      "metadata": {
        "id": "5WkWwJYIiKMm"
      },
      "outputs": [],
      "source": [
        "cluster_var='cluster' # definan nombre de var de clustering\n",
        "x_data_cl=x_data.copy() # hagan copia de los datos de TR para no perderlos\n",
        "x_data_cl[cluster_var]=cl_model.predict(x_data_norm) # ojo aca! el predict es de los datos normalizados"
      ]
    },
    {
      "cell_type": "code",
      "execution_count": null,
      "metadata": {
        "id": "G3BgJ-niiKMm"
      },
      "outputs": [],
      "source": [
        "x_data_cl.head()"
      ]
    },
    {
      "cell_type": "code",
      "execution_count": null,
      "metadata": {
        "id": "OX3me9K6iKMm"
      },
      "outputs": [],
      "source": [
        "from funpymodeling.model_validation import coord_plot"
      ]
    },
    {
      "cell_type": "code",
      "execution_count": null,
      "metadata": {
        "id": "ihctzY1liKMm"
      },
      "outputs": [],
      "source": [
        "d_orig, d_transf = coord_plot(x_data_cl, cluster_var)"
      ]
    },
    {
      "cell_type": "code",
      "execution_count": null,
      "metadata": {
        "id": "fjZu5p1ziKMm"
      },
      "outputs": [],
      "source": [
        "d_orig"
      ]
    },
    {
      "cell_type": "code",
      "execution_count": null,
      "metadata": {
        "id": "T-zOdPeTiKMn"
      },
      "outputs": [],
      "source": [
        "d_transf"
      ]
    },
    {
      "cell_type": "code",
      "execution_count": null,
      "metadata": {
        "id": "3Rq_Ck07iKMn"
      },
      "outputs": [],
      "source": [
        "status(data)"
      ]
    },
    {
      "cell_type": "code",
      "execution_count": null,
      "metadata": {
        "id": "37DNrIIGiKMn"
      },
      "outputs": [],
      "source": [
        "# Selección de vars\n",
        "d2=data[['playlist_genre', 'speechiness','instrumentalness','loudness', 'track_name']]\n",
        "\n",
        "# Tomamos muestra para que no nos explote el gráfico ;)\n",
        "d2=d2.sample(n=300)"
      ]
    },
    {
      "cell_type": "code",
      "execution_count": null,
      "metadata": {
        "id": "TJb_irDRiKMn"
      },
      "outputs": [],
      "source": [
        "# Usamos la maravilla de plotly\n",
        "import plotly.express as px\n",
        "\n",
        "df = px.data.iris()\n",
        "fig = px.scatter_3d(d2, x='speechiness', y='instrumentalness', z='loudness', color='playlist_genre')\n",
        "fig.show()"
      ]
    },
    {
      "cell_type": "code",
      "execution_count": null,
      "metadata": {
        "id": "OoJEpmKliKMo"
      },
      "outputs": [],
      "source": []
    }
  ],
  "metadata": {
    "kernelspec": {
      "display_name": "Python 3",
      "language": "python",
      "name": "python3"
    },
    "language_info": {
      "codemirror_mode": {
        "name": "ipython",
        "version": 3
      },
      "file_extension": ".py",
      "mimetype": "text/x-python",
      "name": "python",
      "nbconvert_exporter": "python",
      "pygments_lexer": "ipython3",
      "version": "3.7.5"
    },
    "colab": {
      "provenance": []
    }
  },
  "nbformat": 4,
  "nbformat_minor": 0
}
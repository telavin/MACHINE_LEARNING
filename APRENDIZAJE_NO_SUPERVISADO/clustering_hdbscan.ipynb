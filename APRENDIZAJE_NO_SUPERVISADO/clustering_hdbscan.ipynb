{
  "cells": [
    {
      "cell_type": "code",
      "execution_count": null,
      "metadata": {
        "id": "syivqtWvigF5"
      },
      "outputs": [],
      "source": [
        "import pandas as pd\n",
        "from qgrid import show_grid\n",
        "import seaborn as sns\n",
        "from pandas_profiling import ProfileReport\n",
        "from funpymodeling.exploratory import freq_tbl, status, profiling_num, cat_vars, num_vars\n",
        "import numpy as np"
      ]
    },
    {
      "cell_type": "markdown",
      "metadata": {
        "id": "Fq8FlmYYigF5"
      },
      "source": [
        "### 1) Carga y preparación de datos"
      ]
    },
    {
      "cell_type": "code",
      "execution_count": null,
      "metadata": {
        "id": "BxYgf5nEigF6"
      },
      "outputs": [],
      "source": [
        "# Fuente: https://github.com/rfordatascience/tidytuesday/blob/master/data/2020/2020-01-21/readme.md\n",
        "data=pd.read_csv(\"https://raw.githubusercontent.com/rfordatascience/tidytuesday/master/data/2020/2020-01-21/spotify_songs.csv\")\n",
        "\n",
        "status(data)"
      ]
    },
    {
      "cell_type": "markdown",
      "metadata": {
        "id": "LB031X8aigF6"
      },
      "source": [
        "Removemos duplicados de canciones:"
      ]
    },
    {
      "cell_type": "code",
      "execution_count": null,
      "metadata": {
        "id": "Iw_V2rbsigF6"
      },
      "outputs": [],
      "source": [
        "data=data.drop_duplicates(subset=\"track_id\")"
      ]
    },
    {
      "cell_type": "code",
      "execution_count": null,
      "metadata": {
        "id": "o9JLkXDnigF7"
      },
      "outputs": [],
      "source": [
        "show_grid(data, grid_options={'forceFitColumns': False, 'defaultColumnWidth': 200})"
      ]
    },
    {
      "cell_type": "code",
      "execution_count": null,
      "metadata": {
        "id": "1fFI_bXRigF7",
        "outputId": "d74d258b-d328-4fc7-c228-0487a633ffd7"
      },
      "outputs": [
        {
          "data": {
            "text/plain": [
              "28356"
            ]
          },
          "execution_count": 5,
          "metadata": {},
          "output_type": "execute_result"
        }
      ],
      "source": [
        "len(data)"
      ]
    },
    {
      "cell_type": "markdown",
      "metadata": {
        "id": "N6nVk6epigF8"
      },
      "source": [
        "### 2) Preparación de datos"
      ]
    },
    {
      "cell_type": "code",
      "execution_count": null,
      "metadata": {
        "id": "j2a5YzLvigF8"
      },
      "outputs": [],
      "source": [
        "x_data=data.drop(cat_vars(data), axis=1)\n",
        "\n",
        "# saquemos otras...\n",
        "x_data=x_data.drop(['key','speechiness', 'mode', 'tempo', 'duration_ms'], axis=1)"
      ]
    },
    {
      "cell_type": "code",
      "execution_count": null,
      "metadata": {
        "id": "uzFLAgShigF8"
      },
      "outputs": [],
      "source": [
        "status(x_data)"
      ]
    },
    {
      "cell_type": "markdown",
      "metadata": {
        "id": "w2xiBhRtigF9"
      },
      "source": [
        "### 3) Creación del modelo"
      ]
    },
    {
      "cell_type": "markdown",
      "metadata": {
        "id": "TENbqmiligF9"
      },
      "source": [
        "Doc oficial: https://hdbscan.readthedocs.io/en/latest/\n",
        "\n",
        "Ojo: en sklearn esta dbscan (sin la H). Es casi igual pero con mas hiperparámetros.\n",
        "En HDBSCAN encuentra internamente prueba distintos valores (usen este)."
      ]
    },
    {
      "cell_type": "code",
      "execution_count": null,
      "metadata": {
        "id": "4CyZ7BNYigF9"
      },
      "outputs": [],
      "source": [
        "import hdbscan"
      ]
    },
    {
      "cell_type": "markdown",
      "metadata": {
        "id": "bOS5X7FLigF9"
      },
      "source": [
        "Generamos el modelo y fiteamos:\n",
        "Condición todas las variables numéricas y sin nulos."
      ]
    },
    {
      "cell_type": "code",
      "execution_count": null,
      "metadata": {
        "id": "POkyrFJeigF9",
        "outputId": "8465ed02-29f6-4dfa-eb85-43009e61aea1"
      },
      "outputs": [
        {
          "data": {
            "text/plain": [
              "HDBSCAN()"
            ]
          },
          "execution_count": 9,
          "metadata": {},
          "output_type": "execute_result"
        }
      ],
      "source": [
        "model_hdb = hdbscan.HDBSCAN()\n",
        "model_hdb.fit(x_data)"
      ]
    },
    {
      "cell_type": "code",
      "execution_count": null,
      "metadata": {
        "id": "xLWNzJF4igF-"
      },
      "outputs": [],
      "source": [
        "# Nro de cluster\n",
        "model_hdb.labels_"
      ]
    },
    {
      "cell_type": "code",
      "execution_count": null,
      "metadata": {
        "id": "8s0u65oiigF-"
      },
      "outputs": [],
      "source": [
        "from funpymodeling.exploratory import freq_tbl, todf\n",
        "\n",
        "freq_tbl(model_hdb.labels_.astype('str'))"
      ]
    },
    {
      "cell_type": "markdown",
      "metadata": {
        "id": "ekhlhQhuigF-"
      },
      "source": [
        "Muchos clusters! **171** \n",
        "\n",
        "Y uno de ellos es de ruido (indicado con el `-1`)"
      ]
    },
    {
      "cell_type": "markdown",
      "metadata": {
        "id": "6F-Iv2QPigF-"
      },
      "source": [
        "### 4) Tuning/regularización de HDBSCAN para menos clusters"
      ]
    },
    {
      "cell_type": "code",
      "execution_count": null,
      "metadata": {
        "id": "lgQVvuZTigF_"
      },
      "outputs": [],
      "source": [
        "model_hdb2 = hdbscan.HDBSCAN(min_cluster_size=80).fit(x_data)"
      ]
    },
    {
      "cell_type": "code",
      "execution_count": null,
      "metadata": {
        "id": "1ASSZ5RwigF_"
      },
      "outputs": [],
      "source": [
        "freq_tbl(model_hdb2.labels_.astype('str'))"
      ]
    },
    {
      "cell_type": "markdown",
      "metadata": {
        "id": "LhJKIyH_igF_"
      },
      "source": [
        "Notar el cluster de ruido. ¿qué cambió?"
      ]
    },
    {
      "cell_type": "markdown",
      "metadata": {
        "id": "r3IgoydzigF_"
      },
      "source": [
        "### 5) Análisis del modelo cluster (profiling)"
      ]
    },
    {
      "cell_type": "code",
      "execution_count": null,
      "metadata": {
        "id": "jmGfSodsigF_"
      },
      "outputs": [],
      "source": [
        "cluster_var='cluster' # definan nombre de var de clustering\n",
        "x_data_cl=x_data.copy() # hagan copia de los datos de TR para no perderlos\n",
        "x_data_cl[cluster_var]=model_hdb2.labels_ # ojo aca! el predict es de los datos normalizados"
      ]
    },
    {
      "cell_type": "code",
      "execution_count": null,
      "metadata": {
        "id": "81fux77DigF_"
      },
      "outputs": [],
      "source": [
        "x_data_cl.head()"
      ]
    },
    {
      "cell_type": "markdown",
      "metadata": {
        "id": "UVDz_nZXigGA"
      },
      "source": [
        "Saquemos el cluster de ruido:"
      ]
    },
    {
      "cell_type": "code",
      "execution_count": null,
      "metadata": {
        "id": "R7jqhYd6igGA"
      },
      "outputs": [],
      "source": [
        "x_data_cl=x_data_cl[x_data_cl['cluster']!=-1]"
      ]
    },
    {
      "cell_type": "code",
      "execution_count": null,
      "metadata": {
        "id": "zbYf3RbUigGA"
      },
      "outputs": [],
      "source": [
        "from funpymodeling.model_validation import coord_plot\n",
        "d_orig, d_transf = coord_plot(x_data_cl, cluster_var)"
      ]
    },
    {
      "cell_type": "code",
      "execution_count": null,
      "metadata": {
        "id": "_OER-CEwigGA"
      },
      "outputs": [],
      "source": [
        "d_orig"
      ]
    },
    {
      "cell_type": "code",
      "execution_count": null,
      "metadata": {
        "id": "L3GAIkpaigGA"
      },
      "outputs": [],
      "source": [
        "d_transf"
      ]
    },
    {
      "cell_type": "code",
      "execution_count": null,
      "metadata": {
        "id": "c-VkgyL6igGA"
      },
      "outputs": [],
      "source": [
        "freq_tbl(x_data_cl['cluster'])"
      ]
    },
    {
      "cell_type": "markdown",
      "metadata": {
        "id": "-w2btDOUigGB"
      },
      "source": [
        "### 6) _Sanity check!_"
      ]
    },
    {
      "cell_type": "code",
      "execution_count": null,
      "metadata": {
        "id": "g30JuSlyigGB"
      },
      "outputs": [],
      "source": [
        "data_check=data.copy()\n",
        "data_check['cluster']=model_hdb2.labels_\n",
        "#data_check=data_check[['cluster', 'track_name']]"
      ]
    },
    {
      "cell_type": "code",
      "execution_count": null,
      "metadata": {
        "id": "X9e7o0KqigGB"
      },
      "outputs": [],
      "source": [
        "show_grid(data_check, grid_options={'forceFitColumns': False, 'defaultColumnWidth': 200})"
      ]
    },
    {
      "cell_type": "markdown",
      "metadata": {
        "id": "ZeZRZufyigGB"
      },
      "source": [
        "#### Calculandolo especialmente para HDBSCAN"
      ]
    },
    {
      "cell_type": "code",
      "execution_count": null,
      "metadata": {
        "id": "SL1ByS0LigGC"
      },
      "outputs": [],
      "source": [
        "from sklearn.metrics import silhouette_score, silhouette_samples\n",
        "\n",
        "sil_avg = silhouette_score(x_data, model_hdb2.labels_)"
      ]
    },
    {
      "cell_type": "markdown",
      "metadata": {
        "id": "rP3iJMmeigGC"
      },
      "source": [
        "`silhouette_score`: nos da el promedio global"
      ]
    },
    {
      "cell_type": "code",
      "execution_count": null,
      "metadata": {
        "id": "epBHYEzuigGC"
      },
      "outputs": [],
      "source": [
        "sil_avg"
      ]
    },
    {
      "cell_type": "markdown",
      "metadata": {
        "id": "M3XSri-bigGC"
      },
      "source": [
        "`silhouette_samples` nos da el valor silhouette para cada registro:"
      ]
    },
    {
      "cell_type": "code",
      "execution_count": null,
      "metadata": {
        "id": "D-9mKcJSigGC"
      },
      "outputs": [],
      "source": [
        "sample_silhouette_values = silhouette_samples(x_data, model_hdb2.labels_)"
      ]
    },
    {
      "cell_type": "code",
      "execution_count": null,
      "metadata": {
        "id": "79FAl9_2igGC"
      },
      "outputs": [],
      "source": [
        "sample_silhouette_values"
      ]
    },
    {
      "cell_type": "code",
      "execution_count": null,
      "metadata": {
        "id": "_KOYl8j4igGC"
      },
      "outputs": [],
      "source": [
        "res_sil=pd.DataFrame({'sil_value': sample_silhouette_values, 'cluster': model_hdb2.labels_})"
      ]
    },
    {
      "cell_type": "code",
      "execution_count": null,
      "metadata": {
        "id": "aLMalOTGigGC"
      },
      "outputs": [],
      "source": [
        "g = sns.FacetGrid(res_sil, col='cluster')\n",
        "g = g.map(sns.kdeplot, 'sil_value')"
      ]
    },
    {
      "cell_type": "markdown",
      "metadata": {
        "id": "KgONiUynigGD"
      },
      "source": [
        "Promedio de Silhouette por cluster:"
      ]
    },
    {
      "cell_type": "code",
      "execution_count": null,
      "metadata": {
        "id": "QlXaxf6_igGD"
      },
      "outputs": [],
      "source": [
        "res_sil.groupby('cluster').mean('sil_value')"
      ]
    }
  ],
  "metadata": {
    "kernelspec": {
      "display_name": "Python 3",
      "language": "python",
      "name": "python3"
    },
    "language_info": {
      "codemirror_mode": {
        "name": "ipython",
        "version": 3
      },
      "file_extension": ".py",
      "mimetype": "text/x-python",
      "name": "python",
      "nbconvert_exporter": "python",
      "pygments_lexer": "ipython3",
      "version": "3.7.5"
    },
    "colab": {
      "provenance": []
    }
  },
  "nbformat": 4,
  "nbformat_minor": 0
}
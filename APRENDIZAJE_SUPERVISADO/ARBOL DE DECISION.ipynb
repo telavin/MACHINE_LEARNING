{
  "cells": [
    {
      "cell_type": "code",
      "execution_count": null,
      "metadata": {
        "id": "zvTw3t3_dOVf"
      },
      "outputs": [],
      "source": [
        "import pandas as pd\n",
        "from qgrid import show_grid\n",
        "import seaborn as sns\n",
        "from pandas_profiling import ProfileReport"
      ]
    },
    {
      "cell_type": "code",
      "execution_count": null,
      "metadata": {
        "id": "lElzSFr2dOVi"
      },
      "outputs": [],
      "source": [
        "## Cargando los datos\n",
        "d_tennis = pd.read_csv(\"data/tennis.csv\", sep = \",\")"
      ]
    },
    {
      "cell_type": "code",
      "execution_count": null,
      "metadata": {
        "id": "tf_8Rnh5dOVj"
      },
      "outputs": [],
      "source": [
        "d_tennis"
      ]
    },
    {
      "cell_type": "code",
      "execution_count": null,
      "metadata": {
        "id": "W1WLPQu2dOVj"
      },
      "outputs": [],
      "source": [
        "d_tennis2 = pd.get_dummies(d_tennis, drop_first=True)"
      ]
    },
    {
      "cell_type": "code",
      "execution_count": null,
      "metadata": {
        "id": "mHADKT3mdOVk"
      },
      "outputs": [],
      "source": [
        "data_x = d_tennis2.drop('jugar_tenis_si', axis=1)\n",
        "data_y = d_tennis2['jugar_tenis_si']"
      ]
    },
    {
      "cell_type": "code",
      "execution_count": null,
      "metadata": {
        "id": "pHSIAlUzdOVm"
      },
      "outputs": [],
      "source": [
        "#Creando el decision tree default\n",
        "from sklearn import tree\n",
        "model = tree.DecisionTreeClassifier() \n",
        "model.fit(data_x, data_y)"
      ]
    },
    {
      "cell_type": "code",
      "execution_count": null,
      "metadata": {
        "id": "gXdZWHdadOVn"
      },
      "outputs": [],
      "source": [
        "from IPython.display import Image  \n",
        "from sklearn.tree import export_graphviz\n",
        "import pydotplus"
      ]
    },
    {
      "cell_type": "code",
      "execution_count": null,
      "metadata": {
        "id": "ep8smPQLdOVo"
      },
      "outputs": [],
      "source": [
        "print(tree.export_graphviz(model, None))"
      ]
    },
    {
      "cell_type": "code",
      "execution_count": null,
      "metadata": {
        "id": "njt7T5q6dOVp"
      },
      "outputs": [],
      "source": [
        "from sklearn.tree.export import export_text"
      ]
    },
    {
      "cell_type": "code",
      "execution_count": null,
      "metadata": {
        "id": "Of99sY4vdOVq"
      },
      "outputs": [],
      "source": [
        "tree_rules = export_text(model, feature_names=list(data_x))"
      ]
    },
    {
      "cell_type": "code",
      "execution_count": null,
      "metadata": {
        "id": "B6JIDGKBdOVq"
      },
      "outputs": [],
      "source": [
        "print(tree_rules)"
      ]
    },
    {
      "cell_type": "code",
      "execution_count": null,
      "metadata": {
        "id": "qF6YrI7cdOVs"
      },
      "outputs": [],
      "source": [
        "import pydotplus # para plotear el árbol"
      ]
    },
    {
      "cell_type": "code",
      "execution_count": null,
      "metadata": {
        "id": "iJ_DtfV-dOVs"
      },
      "outputs": [],
      "source": [
        "# Graficamos el árbol\n",
        "dot_data = tree.export_graphviz(model, \n",
        "                                out_file=None, \n",
        "                                feature_names=list(data_x.columns.values), \n",
        "                                class_names=['No', 'Si'], \n",
        "                                rounded=True, \n",
        "                                filled=True)\n",
        "\n",
        "graph = pydotplus.graph_from_dot_data(dot_data)\n",
        "\n",
        "# Ploteamos:\n",
        "Image(graph.create_png())"
      ]
    },
    {
      "cell_type": "code",
      "execution_count": null,
      "metadata": {
        "id": "K02VdGhydOVt"
      },
      "outputs": [],
      "source": [
        "print(tree_rules)"
      ]
    },
    {
      "cell_type": "markdown",
      "metadata": {
        "id": "URVlEnuDdOVu"
      },
      "source": [
        "**Regla**: IF clima nublado = 1 THEN si se juega (se jugo 4/4 dias)"
      ]
    },
    {
      "cell_type": "code",
      "execution_count": null,
      "metadata": {
        "id": "-tUvV8qXdOVu"
      },
      "outputs": [],
      "source": [
        "show_grid(d_tennis2)"
      ]
    },
    {
      "cell_type": "markdown",
      "metadata": {
        "id": "Zx8w_Zo_dOVu"
      },
      "source": [
        "**Regla**: IF clima nublado = 0 Y humedad normal =0 THEN NO se juega (se jugo 1/4 dias)"
      ]
    },
    {
      "cell_type": "code",
      "execution_count": null,
      "metadata": {
        "id": "r68IQ_VsdOVv"
      },
      "outputs": [],
      "source": [
        "show_grid(d_tennis2)"
      ]
    },
    {
      "cell_type": "markdown",
      "metadata": {
        "id": "clQQF09VdOVw"
      },
      "source": [
        "**Regla**: IF clima nublado = 0 Y humedad normal =0 THEN NO se juega (se jugo 1/4 dias)"
      ]
    },
    {
      "cell_type": "code",
      "execution_count": null,
      "metadata": {
        "id": "kzF2RJ5odOVx"
      },
      "outputs": [],
      "source": [
        "d_regla1=d_tennis2.query(\"clima_nublado==0 and humedad_normal==0\")\n",
        "d_regla1"
      ]
    },
    {
      "cell_type": "markdown",
      "metadata": {
        "id": "ooUnZwrWdOVx"
      },
      "source": [
        "Soporte:"
      ]
    },
    {
      "cell_type": "code",
      "execution_count": null,
      "metadata": {
        "id": "luNhlIdidOVx"
      },
      "outputs": [],
      "source": [
        "len(d_regla1)"
      ]
    },
    {
      "cell_type": "code",
      "execution_count": null,
      "metadata": {
        "id": "D17VxOywdOVy"
      },
      "outputs": [],
      "source": [
        "d_regla1['jugar_tenis_si']"
      ]
    },
    {
      "cell_type": "markdown",
      "metadata": {
        "id": "131zyEvRdOVy"
      },
      "source": [
        "Cantidad de casos positivos:"
      ]
    },
    {
      "cell_type": "code",
      "execution_count": null,
      "metadata": {
        "id": "ZSvtMBqbdOVz"
      },
      "outputs": [],
      "source": [
        "sum(d_regla1['jugar_tenis_si'])"
      ]
    },
    {
      "cell_type": "markdown",
      "metadata": {
        "id": "j5cTae51dOVz"
      },
      "source": [
        "Tasa de acierto:"
      ]
    },
    {
      "cell_type": "code",
      "execution_count": null,
      "metadata": {
        "id": "T2aWEPXadOVz"
      },
      "outputs": [],
      "source": [
        "sum(d_regla1['jugar_tenis_si'])/len(d_regla1)"
      ]
    },
    {
      "cell_type": "code",
      "execution_count": null,
      "metadata": {
        "id": "0FHZgRM5dOV1"
      },
      "outputs": [],
      "source": [
        "# Cambiando los parámetros\n",
        "\n",
        "model2 = tree.DecisionTreeClassifier(max_depth=2)\n",
        "model2.fit(data_x, data_y)"
      ]
    },
    {
      "cell_type": "markdown",
      "metadata": {
        "id": "uByBUu26dOV1"
      },
      "source": [
        "#### 5.a) Restricción por cantidad de niveles"
      ]
    },
    {
      "cell_type": "code",
      "execution_count": null,
      "metadata": {
        "id": "8zWZJb8_dOV1"
      },
      "outputs": [],
      "source": [
        "def plot_tree(model, data_x):\n",
        "    #Create Dot Data\n",
        "    dot_data = tree.export_graphviz(model, \n",
        "                                    out_file=None, \n",
        "                                    feature_names=list(data_x.columns.values), \n",
        "                                    class_names=['No', 'Si'], \n",
        "                                    rounded=True, \n",
        "                                    filled=True)\n",
        "\n",
        "    graph = pydotplus.graph_from_dot_data(dot_data)\n",
        "\n",
        "    # Show graph\n",
        "    return Image(graph.create_png())"
      ]
    },
    {
      "cell_type": "code",
      "execution_count": null,
      "metadata": {
        "id": "DIFw31_edOV2"
      },
      "outputs": [],
      "source": [
        "plot_tree(model2, data_x)"
      ]
    },
    {
      "cell_type": "code",
      "execution_count": null,
      "metadata": {
        "id": "0fambANRdOV2"
      },
      "outputs": [],
      "source": [
        "print(tree_rules)"
      ]
    },
    {
      "cell_type": "code",
      "execution_count": null,
      "metadata": {
        "id": "gArTy4mDdOV3"
      },
      "outputs": [],
      "source": [
        "# Cambiando los parámetros\n",
        "model3 = tree.DecisionTreeClassifier(min_samples_leaf=1) # más restrictivo\n",
        "model3.fit(data_x, data_y)"
      ]
    },
    {
      "cell_type": "code",
      "execution_count": null,
      "metadata": {
        "id": "8knoMG9GdOV3"
      },
      "outputs": [],
      "source": [
        "plot_tree(model3, data_x)"
      ]
    }
  ],
  "metadata": {
    "kernelspec": {
      "display_name": "Python 3",
      "language": "python",
      "name": "python3"
    },
    "language_info": {
      "codemirror_mode": {
        "name": "ipython",
        "version": 3
      },
      "file_extension": ".py",
      "mimetype": "text/x-python",
      "name": "python",
      "nbconvert_exporter": "python",
      "pygments_lexer": "ipython3",
      "version": "3.7.5"
    },
    "colab": {
      "provenance": []
    }
  },
  "nbformat": 4,
  "nbformat_minor": 0
}
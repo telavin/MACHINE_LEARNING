{
  "cells": [
    {
      "cell_type": "code",
      "execution_count": null,
      "metadata": {
        "id": "WskhgbSBhO0o"
      },
      "outputs": [],
      "source": [
        "import pandas as pd\n",
        "from qgrid import show_grid\n",
        "import seaborn as sns\n",
        "from pandas_profiling import ProfileReport\n",
        "from funpymodeling.exploratory import freq_tbl, status, profiling_num, cat_vars, num_vars"
      ]
    },
    {
      "cell_type": "code",
      "execution_count": null,
      "metadata": {
        "id": "vzyekciJhO0q"
      },
      "outputs": [],
      "source": [
        "import pickle\n",
        "\n",
        "with open('data/d_eph5.pickle', 'rb') as handle:\n",
        "    data = pickle.load(handle)"
      ]
    },
    {
      "cell_type": "code",
      "execution_count": null,
      "metadata": {
        "id": "Yx4eHnWdhO0r"
      },
      "outputs": [],
      "source": [
        "status(data)"
      ]
    },
    {
      "cell_type": "code",
      "execution_count": null,
      "metadata": {
        "id": "I08ZhGgOhO0s"
      },
      "outputs": [],
      "source": [
        "data_x=data.drop('ingreso_15k_si', axis=1)\n",
        "data_y=data['ingreso_15k_si']"
      ]
    },
    {
      "cell_type": "code",
      "execution_count": null,
      "metadata": {
        "id": "lgMuKBixhO0s"
      },
      "outputs": [],
      "source": [
        "from sklearn.model_selection import train_test_split\n",
        "\n",
        "x_train, x_test, y_train, y_test = train_test_split(data_x, data_y, test_size=0.2)"
      ]
    },
    {
      "cell_type": "markdown",
      "metadata": {
        "id": "U2KM23HAhO0t"
      },
      "source": [
        "### 2) Creación del modelo predictivo"
      ]
    },
    {
      "cell_type": "code",
      "execution_count": null,
      "metadata": {
        "id": "poYjRXSfhO0t"
      },
      "outputs": [],
      "source": [
        "from sklearn.ensemble import RandomForestClassifier \n",
        "\n",
        "# Creamos 1000 decision trees\n",
        "rf = RandomForestClassifier(n_estimators = 1000, random_state = 99)"
      ]
    },
    {
      "cell_type": "code",
      "execution_count": null,
      "metadata": {
        "id": "vnxDXlfahO0u"
      },
      "outputs": [],
      "source": [
        "rf.fit(x_train, y_train)"
      ]
    },
    {
      "cell_type": "markdown",
      "metadata": {
        "id": "0Wxjl0YBhO0u"
      },
      "source": [
        "### 3) Predicción de la clase y score"
      ]
    },
    {
      "cell_type": "code",
      "execution_count": null,
      "metadata": {
        "id": "aX-KzZpGhO0u"
      },
      "outputs": [],
      "source": [
        "rf.predict(x_train)"
      ]
    },
    {
      "cell_type": "code",
      "execution_count": null,
      "metadata": {
        "id": "evdfRoIPhO0v"
      },
      "outputs": [],
      "source": [
        "pred_probs=rf.predict_proba(x_train)"
      ]
    },
    {
      "cell_type": "code",
      "execution_count": null,
      "metadata": {
        "id": "7yeMiFAthO0v"
      },
      "outputs": [],
      "source": [
        "pred_probs"
      ]
    },
    {
      "cell_type": "code",
      "execution_count": null,
      "metadata": {
        "id": "ehtW74mshO0v"
      },
      "outputs": [],
      "source": [
        "y_prob_tr=pred_probs[:,1]"
      ]
    },
    {
      "cell_type": "code",
      "execution_count": null,
      "metadata": {
        "id": "hbkcH1ochO0w"
      },
      "outputs": [],
      "source": [
        "y_prob_tr"
      ]
    },
    {
      "cell_type": "markdown",
      "metadata": {
        "id": "5fANlnxnhO0y"
      },
      "source": [
        "### 4) Matriz de confusión"
      ]
    },
    {
      "cell_type": "code",
      "execution_count": null,
      "metadata": {
        "id": "21Kg1sofhO0y"
      },
      "outputs": [],
      "source": [
        "from sklearn.metrics import plot_confusion_matrix # atención, asume 0.5 como punto de corte"
      ]
    },
    {
      "cell_type": "markdown",
      "metadata": {
        "id": "zNzDBd4shO0z"
      },
      "source": [
        "Vamos a usar directamente el que grafica porque incluye la matriz original"
      ]
    },
    {
      "cell_type": "markdown",
      "metadata": {
        "id": "r7nYpI_XhO0z"
      },
      "source": [
        "4.a) Valores absolutos:"
      ]
    },
    {
      "cell_type": "code",
      "execution_count": null,
      "metadata": {
        "id": "W4-ghpGRhO00"
      },
      "outputs": [],
      "source": [
        "sns.set(font_scale=1.2) #  Ajuste tamaño de letra (var global)\n",
        "\n",
        "plot_confusion_matrix(rf, x_train, y_train,\n",
        "                      display_labels=['no','si'],\n",
        "                      cmap='Blues')"
      ]
    },
    {
      "cell_type": "markdown",
      "metadata": {
        "id": "kT57Ym-XhO00"
      },
      "source": [
        "4.b) Normalizando por fila:"
      ]
    },
    {
      "cell_type": "code",
      "execution_count": null,
      "metadata": {
        "id": "Fw2XfO6KhO00"
      },
      "outputs": [],
      "source": [
        "plot_confusion_matrix(rf, x_train, y_train,\n",
        "                      display_labels=['no','si'],\n",
        "                      cmap='Blues',\n",
        "                      normalize='true',\n",
        "                     )"
      ]
    },
    {
      "cell_type": "markdown",
      "metadata": {
        "id": "J3urwFFZhO00"
      },
      "source": [
        "#### 4.c) No permite variar el punto de corte, entonces:"
      ]
    },
    {
      "cell_type": "code",
      "execution_count": null,
      "metadata": {
        "id": "DXzVDzQWhO01"
      },
      "outputs": [],
      "source": [
        "y_pred1=rf.predict(x_train)\n",
        "\n",
        "sns.set(font_scale=1.5) #  Ajuste tamaño de letra (var global)\n",
        "conf_mat1=pd.crosstab(index=y_train, # filas = valor real\n",
        "                     columns=y_pred1, # columnas = valor predicho\n",
        "                     rownames=['Actual'], \n",
        "                     colnames=['Pred'], \n",
        "                     normalize='index')\n",
        "\n",
        "import seaborn as sns\n",
        "sns.heatmap(conf_mat1, annot=True, cmap='Blues', fmt='g')"
      ]
    },
    {
      "cell_type": "markdown",
      "metadata": {
        "id": "j3RAZ5QyhO01"
      },
      "source": [
        "### 5) Seteo del punto de corte"
      ]
    },
    {
      "cell_type": "code",
      "execution_count": null,
      "metadata": {
        "id": "f2DF8loNhO01"
      },
      "outputs": [],
      "source": [
        "y_prob_tr"
      ]
    },
    {
      "cell_type": "code",
      "execution_count": null,
      "metadata": {
        "id": "_qfJ4IsJhO02"
      },
      "outputs": [],
      "source": [
        "import numpy as np"
      ]
    },
    {
      "cell_type": "code",
      "execution_count": null,
      "metadata": {
        "id": "zXPI-e8WhO02"
      },
      "outputs": [],
      "source": [
        "y_prob_tr.mean()"
      ]
    },
    {
      "cell_type": "code",
      "execution_count": null,
      "metadata": {
        "id": "PvorS2TihO03"
      },
      "outputs": [],
      "source": [
        "np.where(y_prob_tr > 0.27, \"si\", \"no\")"
      ]
    },
    {
      "cell_type": "code",
      "execution_count": null,
      "metadata": {
        "id": "AsYSFgfhhO03"
      },
      "outputs": [],
      "source": [
        "y_pred2=np.where(y_prob_tr > 0.27, 1, 0)"
      ]
    },
    {
      "cell_type": "code",
      "execution_count": null,
      "metadata": {
        "id": "ZaCd6wXOhO03"
      },
      "outputs": [],
      "source": [
        "y_pred2"
      ]
    },
    {
      "cell_type": "markdown",
      "metadata": {
        "id": "sRE1zTdThO04"
      },
      "source": [
        "### 6) Matriz de confusión (punto de corte custom)\n"
      ]
    },
    {
      "cell_type": "code",
      "execution_count": null,
      "metadata": {
        "id": "YywKER4nhO04"
      },
      "outputs": [],
      "source": [
        "conf_mat2=pd.crosstab(index=y_train, \n",
        "                      columns=y_pred2,  # cambio!\n",
        "                      rownames=['Actual'], \n",
        "                      colnames=['Pred'], \n",
        "                      normalize='index')\n",
        "\n",
        "import seaborn as sns\n",
        "sns.heatmap(conf_mat2, annot=True, cmap='Blues', fmt='g')"
      ]
    },
    {
      "cell_type": "markdown",
      "metadata": {
        "id": "jHA1fB_9hO04"
      },
      "source": [
        "Comparando antes y después:"
      ]
    },
    {
      "cell_type": "code",
      "execution_count": null,
      "metadata": {
        "id": "WpJ_h3gzhO04"
      },
      "outputs": [],
      "source": [
        "sns.set(font_scale=1) #  Ajuste tamaño de letra (var global)\n",
        "\n",
        "import matplotlib.pyplot as plt\n",
        "fig, ax =plt.subplots(1,2)\n",
        "\n",
        "sns.heatmap(conf_mat1, annot=True, cmap='Blues', fmt='g', ax=ax[0])\n",
        "sns.heatmap(conf_mat2, annot=True, cmap='Blues', fmt='g', ax=ax[1])\n",
        "\n",
        "fig.show(warn=False)"
      ]
    },
    {
      "cell_type": "markdown",
      "metadata": {
        "id": "R2avY-C_hO05"
      },
      "source": [
        "### 7) Análisis de los distintos puntos de corte"
      ]
    },
    {
      "cell_type": "code",
      "execution_count": null,
      "metadata": {
        "id": "cKzrQG6GhO05"
      },
      "outputs": [],
      "source": [
        "from yellowbrick.classifier.threshold import discrimination_threshold\n",
        "\n",
        "dis_res=discrimination_threshold(rf, x_train, y_train)\n",
        "dis_res"
      ]
    },
    {
      "cell_type": "markdown",
      "metadata": {
        "id": "SamtJcM4hO06"
      },
      "source": [
        "### 8) Curva ROC"
      ]
    },
    {
      "cell_type": "markdown",
      "metadata": {
        "id": "TM5YaT2thO06"
      },
      "source": [
        "Graficamos para training y para test"
      ]
    },
    {
      "cell_type": "code",
      "execution_count": null,
      "metadata": {
        "id": "IpHFSnqZhO06"
      },
      "outputs": [],
      "source": [
        "from sklearn.metrics import plot_roc_curve\n",
        "import matplotlib.pyplot as plt\n",
        "\n",
        "tr_disp = plot_roc_curve(rf, x_train, y_train)\n",
        "ts_disp = plot_roc_curve(rf, x_test, y_test, ax=tr_disp.ax_)\n",
        "ts_disp.figure_.suptitle(\"ROC curve comparison\")\n",
        "\n",
        "plt.show()"
      ]
    },
    {
      "cell_type": "code",
      "execution_count": null,
      "metadata": {
        "id": "CxMahkC_hO07"
      },
      "outputs": [],
      "source": [
        "import pickle\n",
        "\n",
        "# Lo guardamos al disco\n",
        "filename = 'rf.pkl'\n",
        "pickle.dump(rf, open(filename, 'wb')) # rf = nuestro modelo\n",
        " \n",
        "\n",
        "# Lo cargamos para usarlo en otro momento. Obviamente no tiene sentido tener el dump y el load juntos ;)\n",
        "rf_loaded = pickle.load(open(filename, 'rb'))"
      ]
    },
    {
      "cell_type": "code",
      "execution_count": null,
      "metadata": {
        "id": "cZoHVY7jhO08"
      },
      "outputs": [],
      "source": [
        "from yellowbrick.datasets import load_spam\n",
        "\n",
        "# Carga del set de datos\n",
        "x_data, y_data = load_spam()\n",
        "\n",
        "import pandas as pd\n",
        "\n",
        "x_data['is_spam']=y_data\n",
        "x_data.to_csv('data/spam_data.csv')"
      ]
    }
  ],
  "metadata": {
    "kernelspec": {
      "display_name": "Python 3",
      "language": "python",
      "name": "python3"
    },
    "language_info": {
      "codemirror_mode": {
        "name": "ipython",
        "version": 3
      },
      "file_extension": ".py",
      "mimetype": "text/x-python",
      "name": "python",
      "nbconvert_exporter": "python",
      "pygments_lexer": "ipython3",
      "version": "3.7.5"
    },
    "colab": {
      "provenance": []
    }
  },
  "nbformat": 4,
  "nbformat_minor": 0
}